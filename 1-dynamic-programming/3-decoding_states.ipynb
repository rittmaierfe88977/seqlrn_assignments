{
 "cells": [
  {
   "cell_type": "markdown",
   "id": "aecb1ff0-9338-497e-96db-a7be28d470ea",
   "metadata": {},
   "source": [
    "# Assignment 1: Decoding States\n",
    "\n",
    "---\n",
    "\n",
    "## Task 5) Dual-Tone Multi-Frequency\n",
    "\n",
    "[Dual-tone multi-frequency DTMF](https://en.wikipedia.org/wiki/Dual-tone_multi-frequency_signaling) signaling is an old way of transmitting dial pad keystrokes over the phone.\n",
    "Each key/symbol is assigned a frequency pair: `[(1,697,1209), (2,697,1336), (3,697,1477), (A,697,1633), (4,770,1209), (5,770,1336), (6,770,1477), (B,770,1633), (7,852,1209), (8,852,1336), (9,852,1477), (C,852,1633), (*,941,1209), (0,941,1336), (#,941,1477), (D,941,1633)]`.\n",
    "You can generate some DTMF sequences online, eg. <https://www.audiocheck.net/audiocheck_dtmf.php>\n",
    "\n",
    "### Features\n",
    "\n",
    "For feature computation, use librosa to compute the power spectrum (`librosa.stft` and `librosa.amplitude_to_db`), and extract the approx. band energy for each relevant frequency.\n",
    "\n",
    "> Note: It's best to identify silence by the overall spectral energy and to normalize the band energies to sum up to one.\n",
    "\n",
    "### Decoding\n",
    "\n",
    "To decode DTMF sequences, we can use again dynamic programming, this time applied to states rather than edits.\n",
    "For DTMF sequences, consider a small, fully connected graph that has 13 states: 0-9, A-D, \\*, \\# and _silence_.\n",
    "As for the DP-matrix: the rows will denote the states and the columns represent the time; we will decode left-to-right (ie. time-synchronous), and at each time step, we will have to find the best step forward.\n",
    "The main difference to edit distances or DTW is, that you may now also \"go up\" in the table, ie. change state freely.\n",
    "For distance/similarity, use a template vector for each state that has `.5` for those two bins that need to be active.\n",
    "\n",
    "When decoding a sequence, the idea is now that we remain in one state as long as the key is pressed; after that, the key may either be released (and the spectral energy is close to 0) hence we're in pause, or another key is pressed, hence it's a \"direct\" transition.\n",
    "Thus, from the backtrack, collapse the sequence by digit and remove silence, eg. `44443-3-AAA` becomes `433A`.\n",
    "\n",
    "---"
   ]
  },
  {
   "cell_type": "markdown",
   "id": "6d7aee7c-59a1-4fa9-927e-5297cdaa95c3",
   "metadata": {},
   "source": [
    "### Preparation"
   ]
  },
  {
   "cell_type": "code",
   "execution_count": 7,
   "id": "49652ab4-1773-44b9-8505-0c812522a207",
   "metadata": {},
   "outputs": [],
   "source": [
    "import librosa\n",
    "import numpy as np\n",
    "from typing import List, Tuple"
   ]
  },
  {
   "cell_type": "code",
   "execution_count": 8,
   "id": "76709f02-d408-4da4-9608-3336bff8e93f",
   "metadata": {},
   "outputs": [],
   "source": [
    "### Notice: librosa defaults to 22.050 Hz sample rate; adjust if needed!\n",
    "\n",
    "DTMF_TONES = [\n",
    "    ('1', 697, 1209), \n",
    "    ('2', 697, 1336), \n",
    "    ('3', 697, 1477), \n",
    "    ('A', 697, 1633),\n",
    "    ('4', 770, 1209),\n",
    "    ('5', 770, 1336),\n",
    "    ('6', 770, 1477),\n",
    "    ('B', 770, 1633),\n",
    "    ('7', 852, 1209),\n",
    "    ('8', 852, 1336),\n",
    "    ('9', 852, 1477),\n",
    "    ('C', 852, 1633),\n",
    "    ('*', 941, 1209),\n",
    "    ('0', 941, 1336),\n",
    "    ('#', 941, 1477),\n",
    "    ('D', 941, 1633)\n",
    "]"
   ]
  },
  {
   "cell_type": "markdown",
   "id": "bfa95de0-393a-4b94-959b-dda2472a320b",
   "metadata": {},
   "source": [
    "### Implement the Decoding"
   ]
  },
  {
   "cell_type": "code",
   "execution_count": 64,
   "id": "28f97841-2092-41dc-8580-9356f82cd26b",
   "metadata": {},
   "outputs": [],
   "source": [
    "### TODO:\n",
    "### 1. familiarize with librosa stft to compute powerspectrum\n",
    "### 2. extract the critical bands from the power spectrum (ie. how much energy in the DTMF-related freq bins?)\n",
    "### 3. define template vectors representing the state (see dtmf_tones)\n",
    "### 4. for a new recording, extract critical bands and do DP do get state sequence\n",
    "### 5. backtrack & collapse\n",
    "\n",
    "### Notice: you will need a couple of helper functions...\n",
    "\n",
    "\n",
    "def decode(y: np.ndarray, sr: float) -> list:\n",
    "    \"\"\"\n",
    "    Apply DTMF signal decoding.\n",
    "    \n",
    "    Arguments:\n",
    "    y: Input signal.\n",
    "    sr: Sample rate. \n",
    "    \n",
    "    Returns list of DTMF-signals (no silence).\n",
    "    \"\"\"\n",
    "    ### YOUR CODE HERE\n",
    "    def make_template_vector(freq_low, freq_high, sr, n_fft):\n",
    "        bin_low = int((freq_low * n_fft) / sr)\n",
    "        bin_high = int((freq_high * n_fft) / sr)\n",
    "\n",
    "        template = np.zeros(int(n_fft / 2 + 1))\n",
    "        template[bin_low] = 0.5\n",
    "        template[bin_high] = 0.5\n",
    "    \n",
    "        return template\n",
    "    \n",
    "    def collapse_sequence(seq, silence_break_between_strokes = 2):\n",
    "        if len(seq) == 0:\n",
    "            return []\n",
    "\n",
    "        collapsed_seq = [seq[0]]\n",
    "        symbol_count = 1\n",
    "        last_symbol = seq[0]\n",
    "\n",
    "        for symbol in detected_symbols:\n",
    "            if symbol == last_symbol:\n",
    "                symbol_count += 1\n",
    "\n",
    "                if symbol_count > silence_break_between_strokes and symbol != collapsed_seq[-1]:\n",
    "                    collapsed_seq.append(symbol)\n",
    "            else:\n",
    "                symbol_count = 0\n",
    "\n",
    "            last_symbol = symbol\n",
    "        \n",
    "        return collapsed_seq\n",
    "\n",
    "    n_fft = 2048\n",
    "    S = np.abs(librosa.stft(y, n_fft=2048)) ** 2  # shape (1025, 345) mit S[..., f, t] >> frequency bin f beim Frame t\n",
    "    S_db = librosa.amplitude_to_db(S)\n",
    "\n",
    "    n = len(DTMF_TONES) + 1\n",
    "    m = S.shape[1]\n",
    "    D = np.full((n, m), -np.inf, dtype=float)\n",
    "    template_freqs = [make_template_vector(fl, fh, sr, n_fft) for _, fl, fh in DTMF_TONES]\n",
    "\n",
    "    for i in range(m):\n",
    "        for j in range(n-1):\n",
    "            D[j,i] = np.dot(S_db[:, i], template_freqs[j]) / (len(S_db[:, i]) * len(template_freqs[j]))  # normalized cosine similarity\n",
    "\n",
    "        D[n-1, i] = 1.0 if np.argmax(S_db[:, i]) == 0 else 0.0  # silence label either 1 or 0 to dominate other similarity scores\n",
    "    \n",
    "    # select symbol with the highest similarity score for the given frame\n",
    "    detected_symbols = []\n",
    "    for i in range(m):\n",
    "        max_idx = np.argmax(D[:, i])\n",
    "        detected_symbols.append(\"-\" if max_idx == n-1 else DTMF_TONES[max_idx][0]) \n",
    "\n",
    "    # collapsing\n",
    "    collapsed_symbols = collapse_sequence(detected_symbols)\n",
    "\n",
    "    return collapsed_symbols\n",
    "    ### END YOUR CODE\n"
   ]
  },
  {
   "cell_type": "markdown",
   "id": "d750c234-6007-42ca-9b9c-2e6b5bfa9bbb",
   "metadata": {},
   "source": [
    "### Test the Decoding"
   ]
  },
  {
   "cell_type": "code",
   "execution_count": 65,
   "id": "1de6d88b-546d-4f43-a4aa-6745c02e112b",
   "metadata": {},
   "outputs": [
    {
     "name": "stdout",
     "output_type": "stream",
     "text": [
      "['1', '2', '1', '6', '3', '-', '1', '2', '1', '9', '6', '-', '1', '#', '9', '6', '3', '2', '-', '#', '9', '6', '9', '6']\n"
     ]
    }
   ],
   "source": [
    "SR = 22050\n",
    "TEST_FILE = \"C:\\\\Users\\\\Felix\\\\PythonProjects\\\\seqlrn_assignments\\\\1-dynamic-programming\\\\data\\\\dtmf\\\\audiocheck.net_dtmf_112163_112196_11#9632_##9696.wav\"\n",
    "\n",
    "y, sr = librosa.load(TEST_FILE, sr=SR)\n",
    "print(decode(y=y, sr=sr))"
   ]
  }
 ],
 "metadata": {
  "kernelspec": {
   "display_name": "seqlrn",
   "language": "python",
   "name": "python3"
  },
  "language_info": {
   "codemirror_mode": {
    "name": "ipython",
    "version": 3
   },
   "file_extension": ".py",
   "mimetype": "text/x-python",
   "name": "python",
   "nbconvert_exporter": "python",
   "pygments_lexer": "ipython3",
   "version": "3.12.9"
  }
 },
 "nbformat": 4,
 "nbformat_minor": 5
}
